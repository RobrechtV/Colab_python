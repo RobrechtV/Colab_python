{
  "nbformat": 4,
  "nbformat_minor": 0,
  "metadata": {
    "colab": {
      "name": "2b_basis_io_functies_opgaven.ipynb",
      "provenance": [],
      "collapsed_sections": [],
      "include_colab_link": true
    },
    "kernelspec": {
      "name": "python3",
      "display_name": "Python 3"
    }
  },
  "cells": [
    {
      "cell_type": "markdown",
      "metadata": {
        "id": "view-in-github",
        "colab_type": "text"
      },
      "source": [
        "<a href=\"https://colab.research.google.com/github/RobrechtV/Colab_python/blob/main/2b_basis_io_functies_opgaven.ipynb\" target=\"_parent\"><img src=\"https://colab.research.google.com/assets/colab-badge.svg\" alt=\"Open In Colab\"/></a>"
      ]
    },
    {
      "cell_type": "markdown",
      "metadata": {
        "id": "Yb8VjqsUpq6l"
      },
      "source": [
        "<img src=\"data:image/png;base64,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\" align=\"right\" /><br>\n",
        "\n",
        "\n",
        "**PROGRAMMING IN PYTHON**<br>\n",
        "Academiejaar 2020-2021\n",
        "\n",
        "---\n",
        "\n",
        "\n",
        "\n",
        "---\n",
        "\n"
      ]
    },
    {
      "cell_type": "markdown",
      "metadata": {
        "id": "Ca59gjNO1dmj"
      },
      "source": [
        "# **BASIS I/O EN FUNCTIES**\n",
        "**OPGAVEN**"
      ]
    },
    {
      "cell_type": "markdown",
      "metadata": {
        "id": "2qJw6r2Osz9b"
      },
      "source": [
        "## 1. Ingebouwde functies"
      ]
    },
    {
      "cell_type": "markdown",
      "metadata": {
        "id": "PKtI0iOqSeJo"
      },
      "source": [
        "### 1.5. Oefeningen"
      ]
    },
    {
      "cell_type": "markdown",
      "metadata": {
        "id": "33k1hThCXmZF"
      },
      "source": [
        "**Opgave 1:**<br>\n",
        "Zoek in module math functies om graden naar radiaal te converteren en omgekeerd. Opmerking: de radiaal is de standaard hoekeenheid, die in veel wiskundige gebieden wordt gebruikt. Een hoek van 360° is $2\\pi$ rad. Zet volgende hoeken om:\n",
        "\n",
        "\n",
        "*   360°\n",
        "*   50°\n",
        "*   $\\pi/8$ rad\n",
        "*   5 rad\n",
        "\n"
      ]
    },
    {
      "cell_type": "code",
      "metadata": {
        "id": "QaPKMNNXZOLf",
        "colab": {
          "base_uri": "https://localhost:8080/"
        },
        "outputId": "dbe647ff-bc17-45b3-ba7d-58c4f85aa1ee"
      },
      "source": [
        "import math\n",
        "print(math.radians(360))\n",
        "print(math.radians(50))\n",
        "print(math.degrees(math.pi/8))\n",
        "print(math.degrees(5))"
      ],
      "execution_count": null,
      "outputs": [
        {
          "output_type": "stream",
          "name": "stdout",
          "text": [
            "6.283185307179586\n",
            "0.8726646259971648\n",
            "22.5\n",
            "286.4788975654116\n"
          ]
        }
      ]
    },
    {
      "cell_type": "markdown",
      "metadata": {
        "id": "gJo_W8Zhnk9w"
      },
      "source": [
        "**Opgave 2:**<br>\n",
        "Tijdens de Lottotrekking worden 6 willekeurige getallen tussen 1 en 42 getrokken. Schrijf code die het trekken van één getal simuleert door gebruik te maken van `random.randint()`. Importeer deze functie als `lottotrekking`. Print het getrokken getal uit. Let er op dat 1 en 42 ook moeten kunnen worden getrokken! Zoek in de Python documentatie op of de opgegeven grenzen inclusief of exclusief zijn."
      ]
    },
    {
      "cell_type": "code",
      "metadata": {
        "id": "pS6v3XPlZQJk",
        "colab": {
          "base_uri": "https://localhost:8080/"
        },
        "outputId": "025851e9-9608-4eef-9956-afb3e78f0a6b"
      },
      "source": [
        "from random import randint as lottotrekking\n",
        "print(\"Het winnend lottonummer is \" + str(lottotrekking(1,42)))"
      ],
      "execution_count": null,
      "outputs": [
        {
          "output_type": "stream",
          "name": "stdout",
          "text": [
            "Het winnend lottonummer is 42\n"
          ]
        }
      ]
    },
    {
      "cell_type": "markdown",
      "metadata": {
        "id": "wMpVSIKBb9JW"
      },
      "source": [
        "**Opgave 3:**<br>\n",
        "Voor een willeurige hoek $\\alpha$ geldt dat $sin^2(\\alpha) + cos^2(\\alpha) = 1$. Check of dit effectief klopt door deze formule uit te testen op een willekeurig gegenereerde hoek tussen 0 en $2\\pi$. Print eerst de hoek uit in graden, afgerond tot op twee cijfers na de komma, en print dan het resultaat van de formule."
      ]
    },
    {
      "cell_type": "code",
      "metadata": {
        "id": "kOKsNUz-ZRu1",
        "colab": {
          "base_uri": "https://localhost:8080/"
        },
        "outputId": "f0cc24db-01a1-41ec-9d36-260494405ded"
      },
      "source": [
        "from math import degrees, sin, cos, pi\n",
        "from random import random\n",
        "\n",
        "a = random() * 2 * pi\n",
        "print(\"Hoek alpha is \" + str(round(a, 2)))\n",
        "\n",
        "resultaat = sin(a) ** 2 + cos(a) ** 2\n",
        "print(\"De uitkomst is \" + str(resultaat))"
      ],
      "execution_count": null,
      "outputs": [
        {
          "output_type": "stream",
          "name": "stdout",
          "text": [
            "Hoek alpha is 1.39\n",
            "De uitkomst is 1.0\n"
          ]
        }
      ]
    },
    {
      "cell_type": "markdown",
      "metadata": {
        "id": "gBsFJE3fknek"
      },
      "source": [
        "**Opgave 4:**<br>\n",
        "De stelling van Pythagoras geeft het verband tussen de lengtes van de rechthoekszijden A en B en de lengte van de schuine zijde C van een rechthoekige driehoek: $A^2 + B^2 = C^2$<br>\n",
        "Bereken de lengte van de schuine zijde van een rechthoekige driehoek waarvan de twee andere zijden 10 m en 20 m lang zijn.<br>\n",
        "Voer de berekening eerst uit door gebruik te maken van de operator voor machtsverheffing. Voer dan de berekeningen opnieuw uit door gebruik te maken van de functies `pow()` en `sqrt()` uit de math module. Definieer ook de gepaste variabelen.<br>\n",
        "Print je resultaten uit en vergeet de eenheid niet te vermelden! Rond af tot op 4 cijfers na de komma.  "
      ]
    },
    {
      "cell_type": "code",
      "metadata": {
        "id": "Xl30UEQCZTlu"
      },
      "source": [
        ""
      ],
      "execution_count": null,
      "outputs": []
    },
    {
      "cell_type": "markdown",
      "metadata": {
        "id": "VpoTDNGVeV6b"
      },
      "source": [
        "**Opgave 5:**<br>\n",
        "Print je geboortedatum uit in een mooi leesbaar formaat mbv `strftime()` en schrijf dan code om te berekenen hoeveel jaar je bent. Rond dat aantal naar beneden af zodat je het juiste geheel getal krijgt.<br> \n",
        "Tip 1: Je kan date en datetime objecten aftrekken en optellen. Indien nodig, zoek dan op internet extra informatie op.<br>\n",
        "Tip 2: Om rekening te houden met schrikkeljaren veronderstel je dat één jaar 365.25 dagen telt. Dit is niet exact, maar zal in de meeste gevallen wel tot de juiste oplossing leiden."
      ]
    },
    {
      "cell_type": "code",
      "metadata": {
        "id": "jVWqazrAZU5S",
        "colab": {
          "base_uri": "https://localhost:8080/",
          "height": 190
        },
        "outputId": "468e0211-86ec-441b-b1d0-e425442cec5a"
      },
      "source": [
        "date_time = strftime(\"06/06/1996\")\n",
        "print(\"date and time:\",date_time)\t"
      ],
      "execution_count": null,
      "outputs": [
        {
          "output_type": "error",
          "ename": "NameError",
          "evalue": "ignored",
          "traceback": [
            "\u001b[0;31m---------------------------------------------------------------------------\u001b[0m",
            "\u001b[0;31mNameError\u001b[0m                                 Traceback (most recent call last)",
            "\u001b[0;32m<ipython-input-12-4eeb829b92ee>\u001b[0m in \u001b[0;36m<module>\u001b[0;34m()\u001b[0m\n\u001b[0;32m----> 1\u001b[0;31m \u001b[0mdate_time\u001b[0m \u001b[0;34m=\u001b[0m \u001b[0mstrftime\u001b[0m\u001b[0;34m(\u001b[0m\u001b[0;34m\"06/06/1996\"\u001b[0m\u001b[0;34m)\u001b[0m\u001b[0;34m\u001b[0m\u001b[0;34m\u001b[0m\u001b[0m\n\u001b[0m\u001b[1;32m      2\u001b[0m \u001b[0mprint\u001b[0m\u001b[0;34m(\u001b[0m\u001b[0;34m\"date and time:\"\u001b[0m\u001b[0;34m,\u001b[0m\u001b[0mdate_time\u001b[0m\u001b[0;34m)\u001b[0m\u001b[0;34m\u001b[0m\u001b[0;34m\u001b[0m\u001b[0m\n",
            "\u001b[0;31mNameError\u001b[0m: name 'strftime' is not defined"
          ]
        }
      ]
    },
    {
      "cell_type": "markdown",
      "metadata": {
        "id": "VRT4ninAp4aT"
      },
      "source": [
        "**Opgave 6:**<br>\n",
        "Kopieer je code (zonder de import en print statements) uit vorige opgave en ga na hoeveel seconden Python nodig heeft om de berekeningen uit te voeren. Print het resultaat uit. Vergeet de eenheid niet!"
      ]
    },
    {
      "cell_type": "code",
      "metadata": {
        "id": "WlcDZFgXZWu6"
      },
      "source": [
        ""
      ],
      "execution_count": null,
      "outputs": []
    },
    {
      "cell_type": "markdown",
      "metadata": {
        "id": "aiD80NAZ0gHC"
      },
      "source": [
        "**Opgave 7:**<br>\n",
        "Genereer twee willekeurige decimale getallen tussen 0 en 1000 en ga na of<br><br> \n",
        "$ln(ab) = ln(a) + ln(b)$.<br><br>\n",
        "Is deze formule ook geldig voor $log_{10}$?<br>\n",
        "Ga dit na met een tweede paar willekeurig gegenereerde getallen tussen 0 en 1000.\n"
      ]
    },
    {
      "cell_type": "code",
      "metadata": {
        "id": "kWXE0ovAZOLw"
      },
      "source": [
        ""
      ],
      "execution_count": null,
      "outputs": []
    },
    {
      "cell_type": "markdown",
      "metadata": {
        "id": "e_y9q4MfelLu"
      },
      "source": [
        "## 2. Basis I/O"
      ]
    },
    {
      "cell_type": "markdown",
      "metadata": {
        "id": "tY_wOcbtuMth"
      },
      "source": [
        "### 2.4. Oefeningen"
      ]
    },
    {
      "cell_type": "markdown",
      "metadata": {
        "id": "WKsqhXw52BWG"
      },
      "source": [
        "**Opgave 1:**<br>\n",
        "Vraag aan de gebruiker om een willekeurig getal tussen 0 en 10 op te geven. Laat daarna Python een getal tussen 0 en 10 genereren. Print tenslotte met één statement uit welk getal de gebruiker heeft gekozen, welk getal Python heeft gekozen, en wat het gemiddelde van de twee getallen is. Print dit uit op 3 lijnen.\n"
      ]
    },
    {
      "cell_type": "code",
      "metadata": {
        "id": "INxXjdiEUQsc",
        "colab": {
          "base_uri": "https://localhost:8080/"
        },
        "outputId": "cb4d705a-ef23-484e-c574-dd58a9d1cb2d"
      },
      "source": [
        "from random import randint\n",
        "i1 = int(input(\"Geef een getal tussen 0 en 10:\\n\"))\n",
        "i2 = randint(0, 10)\n",
        "gemiddelde = (i1 + i2) / 2\n",
        "print(f\"Het gemiddelde van het gekozen nummer {i1} en het willekeurig getal {i2} is {gemiddelde}.\")"
      ],
      "execution_count": 17,
      "outputs": [
        {
          "output_type": "stream",
          "name": "stdout",
          "text": [
            "Geef een getal tussen 0 en 10:\n",
            "2\n",
            "Het gemiddelde van het gekozen nummer 2 en het willekeurig getal 10 is 6.0.\n"
          ]
        }
      ]
    },
    {
      "cell_type": "markdown",
      "metadata": {
        "id": "BKkW-BAioZgu"
      },
      "source": [
        "**Opgave 2:**<br>\n",
        "Definieer één print statement om de volgende string in een specifieke format uit te printen:<br>\n",
        "\"Twinkle, twinkle, little star, How I wonder what you are! Up above the world so high, Like a diamond in the sky. Twinkle, twinkle, little star, How I wonder what you are\".\n",
        "<br>\n",
        "Gebruik geen spaties om regels te laten inspringen!\n",
        "<br><br>\n",
        "Gevraagde Output:\n",
        "```\n",
        "Twinkle, twinkle, little star,\n",
        "\tHow I wonder what you are! \n",
        "\t\tUp above the world so high,   \t\t\n",
        "\t\tLike a diamond in the sky. \n",
        "Twinkle, twinkle, little star, \n",
        "\tHow I wonder what you are\n",
        "```\n",
        "\n"
      ]
    },
    {
      "cell_type": "code",
      "metadata": {
        "id": "XNRnfLI1pY_3",
        "colab": {
          "base_uri": "https://localhost:8080/"
        },
        "outputId": "29174eca-56b1-4891-e389-5bca03d6619c"
      },
      "source": [
        "print(\"Twinkle, twinkle, little star,\\n\" + \n",
        "\"\\tHow I wonder what you are!\\n\" + \n",
        "\"\\t\\tUp above the world so high,\\n\" + \n",
        "\"\\t\\tLike a diamond in the sky.\\n\" + \n",
        "\"Twinkle, twinkle, little star,\\n\" +\n",
        "\"\\tHow I wonder what you are\")"
      ],
      "execution_count": 23,
      "outputs": [
        {
          "output_type": "stream",
          "name": "stdout",
          "text": [
            "Twinkle, twinkle, little star,\n",
            "\tHow I wonder what you are!\n",
            "\t\tUp above the world so high,\n",
            "\t\tLike a diamond in the sky.\n",
            "Twinkle, twinkle, little star,\n",
            "\tHow I wonder what you are\n"
          ]
        }
      ]
    },
    {
      "cell_type": "markdown",
      "metadata": {
        "id": "Svs9Ys-a1z2-"
      },
      "source": [
        "**Opgave 3:**<br>\n",
        "Zet de volgende gegevens uit in een mooie tabel. Vergeet de header met kolomnamen niet!\n",
        "\n",
        "*   Westvleteren Blond, 5.80 %, Sint-Sixtusabdij van Westvleteren\n",
        "*   Westvleteren Zes, 6.20 %, Sint-Sixtusabdij van Westvleteren\n",
        "*   Westvleteren Acht, 8.00 %, Sint-Sixtusabdij van Westvleteren\n",
        "*   Westvleteren Twaalf, 10.20 %, Sint-Sixtusabdij van Westvleteren\n",
        "\n"
      ]
    },
    {
      "cell_type": "code",
      "metadata": {
        "id": "mF50JE0uZHqf",
        "colab": {
          "base_uri": "https://localhost:8080/"
        },
        "outputId": "e3e5de68-c24a-4105-b584-6e7f1422edc9"
      },
      "source": [
        "s = \"Westvleteren {}\\t{:>5.2f}%\\t\\tSint-Sixtusabdij van Westvleteren\"\n",
        "print(\"{}\\t\\t{}\\t\\t{}\".format(\"Trappist\", \"Alcohol\", \"Brouwerij\"))\n",
        "print(s.format(\"Blond\", 5.8))\n",
        "print(s.format(\"Zes\", 6.2))\n",
        "print(s.format(\"Acht\", 8.0))\n",
        "print(s.format(\"Twaalf\", 10.2))"
      ],
      "execution_count": 40,
      "outputs": [
        {
          "output_type": "stream",
          "name": "stdout",
          "text": [
            "Trappist\t\tAlcohol\t\tBrouwerij\n",
            "Westvleteren Blond\t 5.80%\t\tSint-Sixtusabdij van Westvleteren\n",
            "Westvleteren Zes\t 6.20%\t\tSint-Sixtusabdij van Westvleteren\n",
            "Westvleteren Acht\t 8.00%\t\tSint-Sixtusabdij van Westvleteren\n",
            "Westvleteren Twaalf\t10.20%\t\tSint-Sixtusabdij van Westvleteren\n"
          ]
        }
      ]
    },
    {
      "cell_type": "markdown",
      "metadata": {
        "id": "-ESRh0W2pjJw"
      },
      "source": [
        "**Opgave 4:**<br>\n",
        "Schrijf Python code die achtereenvolgens de volgende gegevens vraagt aan een gebruiker:\n",
        "-  voornaam;\n",
        "-  familienaam;\n",
        "-  straat;\n",
        "-  huisnummer;\n",
        "-  postcode;\n",
        "-  gemeente;\n",
        "-  geboortedatum;\n",
        "-  geboorteplaats.\n",
        "\n",
        "Print na het vragen de gegevens als volgt uit mbv één print statement:<br>\n",
        "\n",
        "```\n",
        "Naam: <familienaam>\t\tVoornaam: <voornaam>\n",
        "Adres: <straat> <huisnummer>, <postcode> <gemeente>\n",
        "Geboortedatum: <geboortedatum>\t\tGeboorteplaats: <geboorteplaats>  \n",
        "```\n",
        "\n",
        "\n"
      ]
    },
    {
      "cell_type": "code",
      "metadata": {
        "id": "xAH5FiXWZFx3",
        "colab": {
          "base_uri": "https://localhost:8080/"
        },
        "outputId": "897e0e40-16af-452b-c1bc-80e9775000c0"
      },
      "source": [
        "voorNm = input(\"Voornaam: \")\n",
        "familieNm = input(\"Familienaam: \")\n",
        "straat = input(\"Straat: \")\n",
        "huisnummer = input(\"Huisnummer: \")\n",
        "postcode = input(\"Postcode: \")\n",
        "gemeente = input(\"Gemeente: \")\n",
        "geboortedatum = input(\"Geboortedatum: \")\n",
        "geboorteplaats = input(\"Geboorteplaats: \")\n",
        "\n",
        "print(f\"Naam: {familieNm}\\tVoornaam: {voorNm}\\n\" +\n",
        "      f\"Adres: {straat} {huisnummer}, {postcode} {gemeente}\\n\" + \n",
        "      f\"Geboortedatum: {geboortedatum}\\tGeboorteplaats: {geboorteplaats}\")"
      ],
      "execution_count": 119,
      "outputs": [
        {
          "output_type": "stream",
          "name": "stdout",
          "text": [
            "Voornaam: Conny\n",
            "Familienaam: Kaque\n",
            "Straat: Yeetstraat\n",
            "Huisnummer: 85\n",
            "Postcode: 8520\n",
            "Gemeente: Kuurne\n",
            "Geboortedatum: 05/07/1990\n",
            "Geboorteplaats: Zimbabwe\n",
            "Naam: Kaque\tVoornaam: Conny\n",
            "Adres: Yeetstraat 85, 8520 Kuurne\n",
            "Geboortedatum: 05/07/1990\tGeboorteplaats: Zimbabwe\n"
          ]
        }
      ]
    },
    {
      "cell_type": "markdown",
      "metadata": {
        "id": "0UqnOyv1sI89"
      },
      "source": [
        "**Opgave 5:**<br>\n",
        "Schrijf een progammaatje dat aan de gebruiker een (positieve) integer n vraagt en de waarde n + nn + nnn berekent. Print het resultaat mooi uit zodat de gebruiker de uitkomst van deze bewerking te zien krijgt.\n",
        "<br><br>\n",
        "Voorbeeld:<br> \n",
        "Input: n = 5<br>\n",
        "Output: 5 + 55 + 555 = 615"
      ]
    },
    {
      "cell_type": "code",
      "metadata": {
        "id": "9Bt4rEqytVUr",
        "colab": {
          "base_uri": "https://localhost:8080/"
        },
        "outputId": "8bd26eea-6143-4e9d-ae13-f56853654a8c"
      },
      "source": [
        "n = input(\"Geef positief geheel getal pls: \")\n",
        "som = int(n) + int(n + n) + int(n + n + n)\n",
        "print(f\"Input: n = {n}\\n\" +\n",
        "      f\"Output: De som n + nn + nnn met n = {n} is {som}\")"
      ],
      "execution_count": 52,
      "outputs": [
        {
          "output_type": "stream",
          "name": "stdout",
          "text": [
            "Geef positief geheel getal pls: 10\n",
            "Input: n = 10\n",
            "Output: De som n + nn + nnn met n = 10 is 102030\n"
          ]
        }
      ]
    },
    {
      "cell_type": "markdown",
      "metadata": {
        "id": "1ZQ6-adKtVsP"
      },
      "source": [
        "**Opgave 6:**<br>\n",
        "Zoek op hoe je de uitleg van een gegeven Python functie uitprint adhv de zogenaamde \"docstring\". Op basis daarvan schrijf je een programmaatje dat aan de gebruiker de naam van een ingebouwde functie vraagt, en als resultaat de uitleg van de functie uitprint.\n",
        "<br><br>\n",
        "Voorbeeld: \n",
        "\n",
        "```\n",
        "Give name of built-in Python function: abs\n",
        "\n",
        "Function \"abs\":\n",
        "Return the absolute value of the argument.\n",
        "```\n",
        "\n"
      ]
    },
    {
      "cell_type": "code",
      "metadata": {
        "id": "l1DqJ6ZuZDPh",
        "colab": {
          "base_uri": "https://localhost:8080/"
        },
        "outputId": "bb6a5e9c-b6d7-4517-beed-47b605e6a47b"
      },
      "source": [
        "fnc = input(\"Give name of built-in Python function: \")\n",
        "docstr = eval(fnc + \".__doc__\")\n",
        "print(f'\\nFunction \"{fnc}\":\\n{docstr}')"
      ],
      "execution_count": 55,
      "outputs": [
        {
          "output_type": "stream",
          "name": "stdout",
          "text": [
            "Give name of built-in Python function: docstr\n",
            "\n",
            "Function \"docstr\":\n",
            "str(object='') -> str\n",
            "str(bytes_or_buffer[, encoding[, errors]]) -> str\n",
            "\n",
            "Create a new string object from the given object. If encoding or\n",
            "errors is specified, then the object must expose a data buffer\n",
            "that will be decoded using the given encoding and error handler.\n",
            "Otherwise, returns the result of object.__str__() (if defined)\n",
            "or repr(object).\n",
            "encoding defaults to sys.getdefaultencoding().\n",
            "errors defaults to 'strict'.\n"
          ]
        }
      ]
    },
    {
      "cell_type": "markdown",
      "metadata": {
        "id": "Vz1YBGHuyH5R"
      },
      "source": [
        "**Opgave 7:**<br>\n",
        "Gebruik de module \"calendar\" om de kalender uit te printen van een door de gebruiker opgegeven maand en jaar. Zoek op internet op hoe die module juist werkt."
      ]
    },
    {
      "cell_type": "code",
      "metadata": {
        "id": "njO0tBJMY__u",
        "colab": {
          "base_uri": "https://localhost:8080/"
        },
        "outputId": "2c12c3eb-b8aa-4915-9204-d242c6ffe399"
      },
      "source": [
        "import calendar\n",
        "\n",
        "m = int(input(\"Maand: \"))\n",
        "y = int(input(\"Jaar: \"))\n",
        "\n",
        "print(calendar.month(y, m))"
      ],
      "execution_count": 70,
      "outputs": [
        {
          "output_type": "stream",
          "name": "stdout",
          "text": [
            "Maand: 2\n",
            "Jaar: 2046\n",
            "   February 2046\n",
            "Mo Tu We Th Fr Sa Su\n",
            "          1  2  3  4\n",
            " 5  6  7  8  9 10 11\n",
            "12 13 14 15 16 17 18\n",
            "19 20 21 22 23 24 25\n",
            "26 27 28\n",
            "\n"
          ]
        }
      ]
    },
    {
      "cell_type": "markdown",
      "metadata": {
        "id": "-Q96c4ezy6_S"
      },
      "source": [
        "**Opgave 8:**<br>\n",
        "Print de volgende string uit met één print statement. \n",
        "\n",
        "\n",
        "\n",
        "```\n",
        "a string that you \"don't\" have to escape\n",
        "This\n",
        "is a  ....... multi-line\n",
        "heredoc string --------> example\n",
        "\n",
        "```\n",
        "\n",
        "\n",
        "\n",
        "Kan je het ook zonder escape karakters? Tip: Google op 'here document'."
      ]
    },
    {
      "cell_type": "code",
      "metadata": {
        "id": "78i-sdLoY-Dx",
        "colab": {
          "base_uri": "https://localhost:8080/"
        },
        "outputId": "1c1482a2-49ac-4e93-dfb9-a55aa4bbbe7c"
      },
      "source": [
        "print(\"\"\"\\\n",
        "a string that you \"don't\" have to escape\n",
        "This\n",
        "is a  ....... multi-line\n",
        "heredoc string --------> example\n",
        "\"\"\")"
      ],
      "execution_count": 71,
      "outputs": [
        {
          "output_type": "stream",
          "name": "stdout",
          "text": [
            "a string that you \"don't\" have to escape\n",
            "This\n",
            "is a  ....... multi-line\n",
            "heredoc string --------> example\n",
            "\n"
          ]
        }
      ]
    },
    {
      "cell_type": "markdown",
      "metadata": {
        "id": "YHGBEmnDkttf"
      },
      "source": [
        "**Opgave 9:**<br>\n",
        "Vraag aan de gebruiker wat zijn geboortedatum is en print uit hoeveel jaar hij/zij is. Pas geen concatenatie toe in je print statement, maar maak gebruik van de methode format().<br> \n",
        "Tip: Je kan de datetime.strptime() methode toepassen om de input van de gebruiker te parsen."
      ]
    },
    {
      "cell_type": "code",
      "metadata": {
        "id": "AaTmK9IQY8ms",
        "colab": {
          "base_uri": "https://localhost:8080/"
        },
        "outputId": "7c047b71-d1e3-44c5-8691-587a33dfe124"
      },
      "source": [
        "from datetime import datetime\n",
        "from math import floor\n",
        "geboortedatum = input(\"Wat is je geboortedatum? (dd/mm/yy) \")\n",
        "geboortedatum = datetime.strptime(geboortedatum, \"%d/%m/%Y\")\n",
        "vandaag = datetime.now()\n",
        "verschil = (vandaag - geboortedatum).days\n",
        "jaren = floor(verschil / 365)\n",
        "print(f\"Je bent {jaren} jaar jong!\")"
      ],
      "execution_count": 77,
      "outputs": [
        {
          "output_type": "stream",
          "name": "stdout",
          "text": [
            "Wat is je geboortedatum? (dd/mm/yy) 06/06/1996\n",
            "Je bent 25 jaar jong!\n"
          ]
        }
      ]
    },
    {
      "cell_type": "markdown",
      "metadata": {
        "id": "bz2d7fPYC4os"
      },
      "source": [
        "### 3.5. Oefeningen"
      ]
    },
    {
      "cell_type": "markdown",
      "metadata": {
        "id": "3o6mx-pUkrr0"
      },
      "source": [
        "Los de volgende opgaven op, waarbij je enkel gebruik maakt van de theorie die we in de eerste twee lessen hebben gezien. Dit betekent dat je nog geen gebruik maakt van lussen en condities, ook al zouden die efficiënter zijn bij het coderen. Lussen en condities komen echter pas in één van de volgende lessen aan bod."
      ]
    },
    {
      "cell_type": "markdown",
      "metadata": {
        "id": "NwGefOWg0onj"
      },
      "source": [
        "**Opgave 1:**<br>\n",
        "Print de volgende driehoek:<br><br>+<br>++<br>+++<br>++++<br>+++++<br><br>\n",
        "Definieer een gepaste functie om deze printopdracht zo efficiënt mogelijk uit te voeren. Zorg ervoor dat de gebruiker het symbool kan kiezen (default is een plusteken) en illustreer dit door dezelfde figuur met sterretjes uit te printen. \n"
      ]
    },
    {
      "cell_type": "code",
      "metadata": {
        "id": "x9chO_1baCeN",
        "colab": {
          "base_uri": "https://localhost:8080/"
        },
        "outputId": "e8d05369-d90c-48c6-89e0-2b312d18b37c"
      },
      "source": [
        "def print_symbols(n, symbol=\"#\"):\n",
        "  print(symbol * n)\n",
        "\n",
        "print_symbols(1)\n",
        "print_symbols(2)\n",
        "print_symbols(3)\n",
        "print_symbols(4)\n",
        "print_symbols(5)\n"
      ],
      "execution_count": 83,
      "outputs": [
        {
          "output_type": "stream",
          "name": "stdout",
          "text": [
            "#\n",
            "##\n",
            "###\n",
            "####\n",
            "#####\n"
          ]
        }
      ]
    },
    {
      "cell_type": "markdown",
      "metadata": {
        "id": "IWRKNfU3C7za"
      },
      "source": [
        "**Opgave 2:**<br>\n",
        "Wisselkoers: Je gaat op vakantie naar Amerika en wilt graag dollars opnemen. Je schrijft\n",
        "python code om je te helpen met omrekenen van Euro’s naar Dollars en andersom. Ga ervan uit dat 1,00 euro 1,12 dollar waard is.\n",
        "*  Maak een variabele met de naam invoerEuros\n",
        "*  “Vul” deze variabele met een bedrag (getal) in Euros dat je wilt omrekenen\n",
        "*  Maak ook een variabele met de naam invoerDollars\n",
        "*  “Vul” deze variabele met een bedrag (getal) in Dollars dat je wilt omrekenen\n",
        "*  Maak twee variabelen uitvoerDollars en uitvoerEuros\n",
        "*  Reken het bedrag uit invoerEuros om naar Dollars en sla het resultaat op in uitvoerDollars\n",
        "*  Reken het bedrag uit invoerDollars om naar Euro’s en sla het resultaat op in uitvoerEuros\n",
        "*  Zorg dat je code de twee uitkomsten onder elkaar op het scherm afdrukt\n",
        "*  Zorg vervolgens dat het resultaat wordt afgerond op 2 decimalen. Maak hiervoor gebruik van de functie round() en de functie format() en vergelijk het resultaat.\n"
      ]
    },
    {
      "cell_type": "code",
      "metadata": {
        "id": "lrfcY9tgaD2b",
        "colab": {
          "base_uri": "https://localhost:8080/"
        },
        "outputId": "9818f3e6-8d2b-460b-9c74-d92328a72559"
      },
      "source": [
        "koers = 1.12\n",
        "invoerEuros = 50\n",
        "invoerDollars = 100\n",
        "\n",
        "uitvoerEuros = invoerEuros * koers\n",
        "uitvoerDollars = invoerDollars / koers\n",
        "\n",
        "print(uitvoerEuros)\n",
        "print(uitvoerDollars)\n",
        "print()\n",
        "print(round(uitvoerEuros, 2))\n",
        "print(round(uitvoerDollars, 2))\n",
        "print()\n",
        "print(\"{:.2f}\\n{:.2f}\".format(uitvoerEuros, uitvoerDollars))"
      ],
      "execution_count": 100,
      "outputs": [
        {
          "output_type": "stream",
          "name": "stdout",
          "text": [
            "56.00000000000001\n",
            "89.28571428571428\n",
            "\n",
            "56.0\n",
            "89.29\n",
            "\n",
            "56.00\n",
            "89.29\n"
          ]
        }
      ]
    },
    {
      "cell_type": "markdown",
      "metadata": {
        "id": "DZAsHTt1H8c5"
      },
      "source": [
        "**Opgave 3:**<br>\n",
        "Herschrijf je oplossing uit de vorige opgave, deze keer gebruik makend van functies. Concreet ga je een functie euro_naar_dollar() en een functie dollar_naar_euro() definiëren. De wisselkoers geef je bij beide functies als input mee en je voorziet de parameter van een defaultwaarde gelijk aan 1.12. Voorzie ook twee printfuncties print_euro_naar_dollar() en print_dollar_naar_euro() die het resultaat respectievelijk als volgt weergeven: €xxx.xx is \\$xxx.xx en \\$xxx.xx is €xxx.xx. De bedragen moeten dus op twee cijfers na de komma afgerond worden.\n"
      ]
    },
    {
      "cell_type": "code",
      "metadata": {
        "id": "vZ4divQhaEK5",
        "colab": {
          "base_uri": "https://localhost:8080/"
        },
        "outputId": "a510256f-6f42-435c-d841-d1531838be5d"
      },
      "source": [
        "koers = 1.12\n",
        "invoerEuros = 50\n",
        "invoerDollars = 50\n",
        "\n",
        "def euro_naar_dollar(euro, koers = 1.12):\n",
        "  return (euro * koers)\n",
        "\n",
        "def dollar_naar_euro(dollar, koers = 1.12):\n",
        "  return dollar / koers\n",
        "\n",
        "def print_euro2dollar(euro, dollar):\n",
        "  print(f\"€{euro:.2f} is ${dollar:.2f}\")\n",
        "\n",
        "def print_dollar2euro(dollar, euro):\n",
        "  print(f\"${dollar:.2f} is €{euro:.2f}\")\n",
        "\n",
        "print_euro2dollar(invoerEuros, euro_naar_dollar(invoerEuros))\n",
        "print_dollar2euro(invoerDollars, dollar_naar_euro(invoerDollars))"
      ],
      "execution_count": 118,
      "outputs": [
        {
          "output_type": "stream",
          "name": "stdout",
          "text": [
            "€50.00 is $56.00\n",
            "$50.00 is €44.64\n"
          ]
        }
      ]
    },
    {
      "cell_type": "markdown",
      "metadata": {
        "id": "rxIM3UrLKOUj"
      },
      "source": [
        "**Opgave 4:**<br>\n",
        "Probeer nu om de 4 functies uit de vorige opgave te reduceren tot één generieke functie wisselkoers() die bijvoorbeeld ook een bedrag in Zwitserse Frank (CHF) kan om zetten naar Britse Pond (£) waarbij 1CHF gelijk is aan 0.8598£. De functie print ook de oplossing uit en de gebruiker kan aangeven tot op hoeveel cijfers na de komma de bedragen nauwkeurig moeten zijn. De defaultwaarde is 2 cijfers na de komma. Test je functie eerst met de bedragen uit de voorgaande opgave. Maak gebruik van de site https://www.wisselkoers.be/ om oplossingen met andere valuta te controleren."
      ]
    },
    {
      "cell_type": "code",
      "metadata": {
        "id": "BPz4zTCQaFTf"
      },
      "source": [
        ""
      ],
      "execution_count": null,
      "outputs": []
    },
    {
      "cell_type": "markdown",
      "metadata": {
        "id": "4PvE8OFYFAuJ"
      },
      "source": [
        "\n",
        "**Opgave 5:**<br>\n",
        "Schrijf een functie die aan de gebruiker 3 getallen vraagt en daarna het minimum, het maximum en het gemiddelde van die getallen uitprint tot op 3 cijfers na de komma nauwkeurig."
      ]
    },
    {
      "cell_type": "code",
      "metadata": {
        "id": "u2XhCTWYaFs6"
      },
      "source": [
        ""
      ],
      "execution_count": null,
      "outputs": []
    },
    {
      "cell_type": "markdown",
      "metadata": {
        "id": "mv7kffopQxyT"
      },
      "source": [
        "**Opgave 6:**<br>\n",
        "Schrijf twee functies die een gegeven temperatuur in graden Celsius omzetten naar respectievelijk graden Fahrenheit en Kelvin. Zoek op internet op hoe de omzetting gebeurt. Demonstreer je functie met een vijftal temperaturen die je mooi uitprint in een tabel gebruik makend van formattering."
      ]
    },
    {
      "cell_type": "code",
      "metadata": {
        "id": "JYIpJJ0-aGzN"
      },
      "source": [
        ""
      ],
      "execution_count": null,
      "outputs": []
    },
    {
      "cell_type": "markdown",
      "metadata": {
        "id": "dUadYp8vld8E"
      },
      "source": [
        "**Opgave 7**:<br>\n",
        "Schrijf een anonieme functie om het kwadraat van een getal te berekenen en een anonieme functie om de vierkantswortel te berekenen. Ken deze functies respectievelijk toe aan variabelen 'square' en 'sqrt'. Vraag tenslotte aan de gebruiker om een getal op te geven en print het kwadraat en de vierkantswortel uit tot op 4 cijfers na de komma nauwkeurig. Test je functies door je resultaten te verifiëren aan de hand van ingebouwde functies uit de module math."
      ]
    },
    {
      "cell_type": "code",
      "metadata": {
        "id": "iT32ANpDaIEd"
      },
      "source": [
        ""
      ],
      "execution_count": null,
      "outputs": []
    },
    {
      "cell_type": "markdown",
      "metadata": {
        "id": "WJoDbW8evbn8"
      },
      "source": [
        "**Opgave 8**:<br>\n",
        "Schrijf zelf een functie om de rest na deling te bepalen. Zorg ervoor dat je functie werkt voor integers en floats, zowel positieve als negatieve. Test je functie uit met enkele voorbeelden en vergelijk je resultaten met de uitkomsten die je krijgt als je dezelfde berekeningen uitvoert met Python's ingebouwde modulo operator. Zorg dat alles mooi wordt uitgeprint.<br>\n",
        "Kan je hier ook gebruik maken van een anonieme functie? Zo ja, doet dat dan!"
      ]
    },
    {
      "cell_type": "code",
      "metadata": {
        "id": "bLtOdGc6vuTs"
      },
      "source": [
        ""
      ],
      "execution_count": null,
      "outputs": []
    },
    {
      "cell_type": "markdown",
      "metadata": {
        "id": "VZpZk7Q0TU0v"
      },
      "source": [
        "**Opgave 9:**<br>\n",
        "Schrijf functies die omtrek en oppervlakte berekenen van een cirkel, een vierkant en een gelijkzijdige driehoek. Als je de formules vergeten bent, dan vind je die snel terug op het internet. Schrijf één generieke functie die het resultaat uitprint, bijvoorbeeld: \"De oppervlakte van een vierkant met zijde 2 is 4\". Demonstreer de functies aan de hand van enkele voorbeelden."
      ]
    },
    {
      "cell_type": "code",
      "metadata": {
        "id": "KUTAeK7haIg-"
      },
      "source": [
        ""
      ],
      "execution_count": null,
      "outputs": []
    },
    {
      "cell_type": "markdown",
      "metadata": {
        "id": "eGXIblxwTkwr"
      },
      "source": [
        "**Opgave 10:**<br>\n",
        "Schrijf een functie die een gegeven Europese schoenmaat omzet naar voetlengte. Definieer ook de inverse functie, d.w.z. de functie die een gegeven voetlengte omzet naar een schoenmaat. Deze inverse functie mag enkel een geheel getal als schoenmaat retourneren! Gebruik de formule die je vindt op de volgende wikipedia pagina: https://nl.wikipedia.org/wiki/Schoenmaat. Neem dan je eigen schoenmaat en bereken je voetlengte. Print het resultaat uit. Als test pas je de inverse functie toe en check je of de berekende voetlengte jouw schoenmaat retourneert. Print ook dat resultaat uit."
      ]
    },
    {
      "cell_type": "code",
      "metadata": {
        "id": "rFzDqtI6aJo5"
      },
      "source": [
        ""
      ],
      "execution_count": null,
      "outputs": []
    },
    {
      "cell_type": "markdown",
      "metadata": {
        "id": "GMcUe8RR7VD_"
      },
      "source": [
        "**Opgave 11:**<br>\n",
        "Definieer een nieuwe functie die voor een gegeven voetlengte de Europese schoemaat geeft, maar deze functie moet de schoenmaat tot op een halve eenheid nauwkeurig berekenen. Check deze nieuwe functie door eerst de voetlengte te berekenen voor schoenmaten 35.5, 40.5 en 45.5 met de functie die je in de vorige opgave hebt gedefineerd, om vervolgens de bekomen voetlengten terug om te zetten naar de schoenmaten met de nieuwe functie. "
      ]
    },
    {
      "cell_type": "code",
      "metadata": {
        "id": "k0PNBCyhaKHp"
      },
      "source": [
        ""
      ],
      "execution_count": null,
      "outputs": []
    },
    {
      "cell_type": "markdown",
      "metadata": {
        "id": "mIkMV0MA3gdF"
      },
      "source": [
        "**Opgave 12:**<br>\n",
        "Een tweegraadsvergelijking van de vorm $ax^2 + bx + c = 0$ los je op met de volgende formule:<br><br>\n",
        "$x_{1,2} = \\frac{-b \\pm \\sqrt(b^2 - 4ac)}{2a}$<br><br>\n",
        "Het $\\pm$ teken wil zeggen dat er twee oplossingen $x_{1}$ en $x_{2}$ zijn: bij de ene tel je op, bij de andere trek je af. Deze oplossingen noemt men de nulpunten, nulwaarden of wortels van de vergelijking.<br><br>\n",
        "Schrijf eerst een functie discriminant() die $D = b^2 - 4ac$ berekent. Schrijf dan een functie nulwaarden() die de tweedegraadsvergelijking oplost en daarbij gebruik maakt van de functie discriminant(). Schrijf tenslotte een derde functie los_vergelijking_op() die aan de gebruiker de coëfficienten a, b en c vraagt, daarna de wortels van de opgegeven vergelijking berekent met de functie nulwaarden(), en tenslotte de oplossing afdrukt. Zorg dat alles mooi en duidelijk wordt uitgeprint voor de gebruiker! Laat de gebruiker ook weten hoeveel tijd Python nodig heeft gehad om de berekeningen uit te voeren...<br><br>\n",
        "Om de twee nulpunten te retourneren, kan je de volgende syntax gebruiken:\n",
        "\n",
        "\n",
        "```\n",
        "def nulwaarden(a, b, c):\n",
        "  ...\n",
        "  return x1, x2\n",
        "\n",
        "x1, x2 = nulwaarden(a, b, c)\n",
        "```\n",
        "\n",
        "In een volgende les gaan we dieper in op het retourneren van meerdere outputwaarden wanneer we tuples bespreken.\n",
        "<br><br>\n",
        "Let op! Wanneer je gebruik zal maken van math.sqrt() om de vierkantswortel te berekenen, dan zal je in sommige gevallen een \"math domain error\" krijgen. Hoe verklaar je dit? Hoe los je dit op? "
      ]
    },
    {
      "cell_type": "code",
      "metadata": {
        "id": "NyYbwrnGZtam"
      },
      "source": [
        ""
      ],
      "execution_count": null,
      "outputs": []
    },
    {
      "cell_type": "markdown",
      "metadata": {
        "id": "RQQI6mmC4SMn"
      },
      "source": [
        "**Opgave 13:**<br>\n",
        "In de bevolking lijdt 1 op de 100 mensen aan reumatoïde artritis. Er bestaat een test, de \"reumatest\", die bij reumapatiënten meestal positief is en bij niet-reumapatiënten meestal negatief. De test is echter niet 100% waterdicht en heeft een specificiteit (dat wil zeggen de kans op een negatieve test als de ziekte afwezig is) van 0,8 en een sensitiviteit (kans op een positieve test bij aanwezigheid van de ziekte) van 0,7.\n",
        "<br><br>\n",
        "Vraag: Is het zinvol om de bevolking met deze test op het voorkomen van reuma te testen?\n",
        "<br><br>\n",
        "Oplossing: Met behulp van het theorema van Bayes bepalen we de kans dat een willekeurig iemand uit de bevolking die positief test effectief ook ziek is. Dit theorema ziet er in zijn algemene vorm als volgt uit:<br> \n",
        "\n",
        "$P(A|B) = \\frac{P(B|A)P(A)}{P(B|A)P(A)+P(B|niet A)P(niet A)}$\n",
        "\n",
        "\n",
        "Gevraagd: Schrijf een functie die het theorema van Bayes implementeert en gebruik de functie om te bepalen of de reumatest zinvol is.\n",
        "\n",
        "We weten dat:\n",
        "- P(A) = 0.01 (kans dat iemand ziek is)\n",
        "- P(niet A) = 1 - 0.01 = 0.99 (kans dat iemand niet ziek is)\n",
        "- P(B|A) = 0.7 (sensitiviteit of de kans dat iemand die ziek is effectief ook positief test)\n",
        "- P(niet B|niet A) = 0.8 (specificiteit of de kans dat iemand die niet ziek is effectief negatief test)\n",
        "- P(B| nietA) = 1 - 0.8 = 0.2 (kans dat iemand die ziek is toch negatief test).\n",
        "\n",
        "\n",
        "\n",
        "We zoeken dus P(A|B) of de kans dat iemand ziek is bij een positieve test.\n",
        "<br>\n",
        "<br>\n",
        "Het voorbeeld komt van https://nl.wikipedia.org/wiki/Theorema_van_Bayes, waar je ook de oplossing terugvindt.\n",
        "\n"
      ]
    },
    {
      "cell_type": "code",
      "metadata": {
        "id": "1E6GrDtqZpGE"
      },
      "source": [
        ""
      ],
      "execution_count": null,
      "outputs": []
    },
    {
      "cell_type": "markdown",
      "metadata": {
        "id": "yfPcYTZHGgOj"
      },
      "source": [
        "**Opgave 14:**<br>\n",
        "Wanneer je met functies werkt en die zo generiek mogelijk gaat implementeren, dan kan je die functies meestal ook bij andere problemen gaan toepassen. Neem nu het volgende artikel op Medium over het testen op COVID-19:<br>\n",
        "https://medium.com/@Bob_Wachter/interpreting-covid-19-test-results-a-bayesian-approach-df058dad2ade<br>\n",
        "De verschillende cases die in het artikel worden besproken kan je snel narekenen met de functie uit de vorige opgave.<br><br> \n",
        "Check de volgende cijfers halverwege het artikel:<br><br>\n",
        "**“Covid Symptoms” in New York City in mid-March:**<br>\n",
        "[Prevalence 0.7 (70%), Sensitivity 0.7, Specificity 0.995, Sample size 1000]<br><br>\n",
        "De auteurs beweren dat in dit geval de kans dat een patiënt ziek is bij een positieve test meer dan 99% is. Klopt dit? Bereken de kans tot op 2 cijfers na de komma nauwkeurig en print het resultaat mooi uit in procent.<br>\n",
        "(Noot: \"prevalence\" betekent hier de kans dat iemand effectief ziek is.)"
      ]
    },
    {
      "cell_type": "code",
      "metadata": {
        "id": "iWshkDiWZmh4"
      },
      "source": [
        ""
      ],
      "execution_count": null,
      "outputs": []
    },
    {
      "cell_type": "markdown",
      "metadata": {
        "id": "zm3-Xs5UmXPz"
      },
      "source": [
        "**Opgave 15:**<br>\n",
        "Stel dat er over een gegeven netwerk gemiddeld 3.5 bitcoin transacties per seconde uitgevoerd worden, en dat het maximum aantal transacties dat het netwerk kan verwerken 7 per seconde is.<br>\n",
        "Met behulp van de Poissonverdeling kunnen we berekenen wat de kans is dat er gedurende een seconde $k$ transacties plaatsvinden als het gemiddeld aantal transacties gelijk is aan $\\mu$:\n",
        "<br><br>\n",
        "$P(X=k) = \\frac{\\mu^{k}}{k!}e^{-\\mu}$\n",
        "<br><br>\n",
        "Zie ook: https://nl.wikipedia.org/wiki/Poissonverdeling<br>\n",
        "\n",
        "Bereken nu de kans dat er in een seconde: \n",
        "- 0 transacties zijn;\n",
        "- 3 of minder transacties zijn;\n",
        "- 2 of meer transacties zijn;\n",
        "- meer dan 7 transacties zijn.\n",
        "\n",
        "Tips: \n",
        "- Schrijf een functie poisson() die de gegeven formule implementeert.\n",
        "- Schrijf een generieke printfunctie waarmee je de 4 resultaten duidelijk kan uitprinten.\n",
        "- $k!$ wil zeggen \"k faculteit\" waarvoor je de functie math.factorial() kan gebruiken. \n",
        "- De kans $P(X\\le k)$ dat er $k$ of minder transacties per sec zijn is gelijk aan $P(X=0) + P(X=1) + ... + P(X=k)$. \n",
        "- De kans $P(X>k)$ dat er meer dan $k$ transacties per sec zijn is $1 - P(X\\le k)$.\n",
        "\n",
        "\n"
      ]
    },
    {
      "cell_type": "code",
      "metadata": {
        "id": "sr_CzNpYvwB1"
      },
      "source": [
        ""
      ],
      "execution_count": null,
      "outputs": []
    },
    {
      "cell_type": "markdown",
      "metadata": {
        "id": "teyGxpZXXVvQ"
      },
      "source": [
        "\n",
        "\n",
        "---\n",
        "\n",
        "\n",
        "\n",
        "---\n",
        "Bronnen:\n",
        "*  W3Schools: https://www.w3schools.com/python/default.asp\n",
        "*  Handboek: Python Crash Course, a hands-on, project-based introduction to programming, by Eric Matthes, 2016.\n",
        "*  Cisco Networking Academy: PCAP Programming Essentials in Python "
      ]
    }
  ]
}